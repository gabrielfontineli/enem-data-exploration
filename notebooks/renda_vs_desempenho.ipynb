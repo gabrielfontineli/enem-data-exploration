{
 "cells": [
  {
   "cell_type": "markdown",
   "metadata": {},
   "source": [
    "# 02 — Renda vs Desempenho (ENEM 2023)\n",
    "\n",
    "Este notebook analisa a relação entre **renda familiar (Q006)** e **desempenho** no ENEM 2023.\n",
    "\n",
    "**Premissas:**\n",
    "- O arquivo `../data/interim/enem_2023.parquet` já foi gerado.\n",
    "- Colunas mínimas: `NOTA_MEDIA_5`, `Q006`, `Q006_ord`.\n",
    "- Colunas opcionais: `Q006_rot`, `TP_ESCOLA_rot`.\n"
   ]
  },
  {
   "cell_type": "code",
   "execution_count": null,
   "metadata": {},
   "outputs": [],
   "source": [
    "%matplotlib inline\n",
    "from pathlib import Path\n",
    "import pandas as pd\n",
    "import matplotlib.pyplot as plt\n",
    "\n",
    "DATA_PATH = Path(\"../data/interim/enem_2023.parquet\")\n",
    "print(\"Lendo:\", DATA_PATH)\n",
    "df = pd.read_parquet(DATA_PATH)\n",
    "print(\"Dimensões:\", df.shape)\n",
    "\n",
    "required = [\"NOTA_MEDIA_5\", \"Q006\", \"Q006_ord\"]\n",
    "missing = [c for c in required if c not in df.columns]\n",
    "if missing:\n",
    "    raise RuntimeError(f\"Faltam colunas necessárias: {missing}.\")\n",
    "\n",
    "RENDA_ROT_COL = \"Q006_rot\" if \"Q006_rot\" in df.columns else None\n",
    "TP_ESCOLA_ROT = \"TP_ESCOLA_rot\" if \"TP_ESCOLA_rot\" in df.columns else None\n",
    "\n",
    "if \"IN_TREINEIRO\" in df.columns:\n",
    "    df = df[df[\"IN_TREINEIRO\"] == 0].copy()\n",
    "\n",
    "df = df.dropna(subset=[\"NOTA_MEDIA_5\", \"Q006\", \"Q006_ord\"]).copy()\n",
    "df.head()"
   ]
  },
  {
   "cell_type": "markdown",
   "metadata": {},
   "source": [
    "## 1) Distribuição de Renda (Q006) — Absoluta e Percentual"
   ]
  },
  {
   "cell_type": "code",
   "execution_count": null,
   "metadata": {},
   "outputs": [],
   "source": [
    "# Frequência absoluta\n",
    "plt.figure(figsize=(10, 6))\n",
    "if RENDA_ROT_COL:\n",
    "    counts = df[RENDA_ROT_COL].value_counts().sort_index()\n",
    "    plt.barh(counts.index, counts.values)\n",
    "    plt.title(\"Distribuição da Renda Familiar (Q006) — Frequência Absoluta\")\n",
    "    plt.xlabel(\"Número de Estudantes\")\n",
    "    plt.ylabel(\"Faixa de Renda (rótulo)\")\n",
    "else:\n",
    "    counts = df[\"Q006\"].value_counts().sort_index()\n",
    "    plt.bar(counts.index, counts.values)\n",
    "    plt.title(\"Distribuição da Renda Familiar (Q006) — Códigos\")\n",
    "    plt.xlabel(\"Q006 (códigos A..Z)\")\n",
    "    plt.ylabel(\"Número de Estudantes\")\n",
    "plt.tight_layout()\n",
    "plt.show()\n",
    "\n",
    "# Percentual\n",
    "plt.figure(figsize=(10, 6))\n",
    "if RENDA_ROT_COL:\n",
    "    pct = (df[RENDA_ROT_COL].value_counts(normalize=True).sort_index() * 100)\n",
    "    plt.barh(pct.index, pct.values)\n",
    "    plt.title(\"Distribuição Percentual da Renda Familiar (Q006)\")\n",
    "    plt.xlabel(\"% de Estudantes\")\n",
    "    plt.ylabel(\"Faixa de Renda (rótulo)\")\n",
    "else:\n",
    "    pct = (df[\"Q006\"].value_counts(normalize=True).sort_index() * 100)\n",
    "    plt.bar(pct.index, pct.values)\n",
    "    plt.title(\"Distribuição Percentual da Renda Familiar (Q006)\")\n",
    "    plt.xlabel(\"% de Estudantes\")\n",
    "    plt.ylabel(\"Q006 (códigos A..Z)\")\n",
    "plt.tight_layout()\n",
    "plt.show()"
   ]
  },
  {
   "cell_type": "markdown",
   "metadata": {},
   "source": [
    "## 2) Tendência da Nota Média por Faixa de Renda (ordem ordinal)"
   ]
  },
  {
   "cell_type": "code",
   "execution_count": null,
   "metadata": {},
   "outputs": [],
   "source": [
    "ord_df = df.groupby(\"Q006_ord\", as_index=False)[\"NOTA_MEDIA_5\"].mean().sort_values(\"Q006_ord\")\n",
    "plt.figure(figsize=(10, 5))\n",
    "plt.plot(ord_df[\"Q006_ord\"], ord_df[\"NOTA_MEDIA_5\"], marker=\"o\")\n",
    "plt.title(\"Tendência da Nota Média por Faixa de Renda (Q006_ord)\")\n",
    "plt.xlabel(\"Ordem de Renda (A=1, B=2, ...)\")\n",
    "plt.ylabel(\"Nota Média (5 provas)\")\n",
    "plt.grid(True, linestyle=\"--\", alpha=0.6)\n",
    "plt.tight_layout()\n",
    "plt.show()\n",
    "\n",
    "# Versão com rótulos, se disponível\n",
    "if RENDA_ROT_COL:\n",
    "    tmp_lab = df[[RENDA_ROT_COL, \"Q006_ord\"]].dropna().drop_duplicates().sort_values(\"Q006_ord\")\n",
    "    x = list(tmp_lab[\"Q006_ord\"])\n",
    "    labs = list(tmp_lab[RENDA_ROT_COL])\n",
    "    means = df.groupby(\"Q006_ord\")[\"NOTA_MEDIA_5\"].mean().reindex(x)\n",
    "\n",
    "    plt.figure(figsize=(12, 5))\n",
    "    plt.plot(labs, means.values, marker=\"o\")\n",
    "    plt.title(\"Tendência da Nota Média por Faixa de Renda (rótulos)\")\n",
    "    plt.xlabel(\"Faixa de Renda (Q006_rot)\")\n",
    "    plt.ylabel(\"Nota Média (5 provas)\")\n",
    "    plt.xticks(rotation=45, ha=\"right\")\n",
    "    plt.grid(True, linestyle=\"--\", alpha=0.6)\n",
    "    plt.tight_layout()\n",
    "    plt.show()"
   ]
  },
  {
   "cell_type": "markdown",
   "metadata": {},
   "source": [
    "## 3) Boxplot da Nota Média por Faixa de Renda"
   ]
  },
  {
   "cell_type": "code",
   "execution_count": null,
   "metadata": {},
   "outputs": [],
   "source": [
    "if RENDA_ROT_COL:\n",
    "    order = df[[RENDA_ROT_COL, \"Q006_ord\"]].drop_duplicates().sort_values(\"Q006_ord\")\n",
    "    groups = [df.loc[df[RENDA_ROT_COL]==lab, \"NOTA_MEDIA_5\"].dropna().values for lab in order[RENDA_ROT_COL]]\n",
    "    labels = list(order[RENDA_ROT_COL])\n",
    "else:\n",
    "    order = sorted(df[\"Q006\"].dropna().unique())\n",
    "    groups = [df.loc[df[\"Q006\"]==lab, \"NOTA_MEDIA_5\"].dropna().values for lab in order]\n",
    "    labels = order\n",
    "\n",
    "plt.figure(figsize=(12, 6))\n",
    "plt.boxplot(groups, labels=labels, showfliers=False)\n",
    "plt.title(\"Boxplot da Nota Média por Faixa de Renda (Q006)\")\n",
    "plt.xlabel(\"Faixa de Renda\")\n",
    "plt.ylabel(\"Nota Média (5 provas)\")\n",
    "plt.xticks(rotation=45, ha=\"right\")\n",
    "plt.tight_layout()\n",
    "plt.show()"
   ]
  },
  {
   "cell_type": "markdown",
   "metadata": {},
   "source": [
    "## 4) Correlação e Dispersão (Q006_ord × NOTA_MEDIA_5)"
   ]
  },
  {
   "cell_type": "code",
   "execution_count": null,
   "metadata": {},
   "outputs": [],
   "source": [
    "cor = df[\"Q006_ord\"].corr(df[\"NOTA_MEDIA_5\"])\n",
    "print(f\"Correlação (Q006_ord vs NOTA_MEDIA_5): {cor:.3f}\")\n",
    "\n",
    "sample = df.sample(min(50000, len(df)), random_state=42)\n",
    "plt.figure(figsize=(7, 5))\n",
    "plt.scatter(sample[\"Q006_ord\"], sample[\"NOTA_MEDIA_5\"], s=6, alpha=0.2)\n",
    "plt.title(f\"Dispersão: Renda (ord) x Nota Média — corr={cor:.3f}\")\n",
    "plt.xlabel(\"Q006_ord (A=1, B=2, ...)\")\n",
    "plt.ylabel(\"NOTA_MEDIA_5\")\n",
    "plt.grid(True, linestyle=\":\", alpha=0.5)\n",
    "plt.tight_layout()\n",
    "plt.show()"
   ]
  },
  {
   "cell_type": "markdown",
   "metadata": {},
   "source": [
    "## 5) Observações para o relatório\n",
    "\n",
    "- A distribuição de renda concentra-se nas faixas intermediárias; faixas altas são minoritárias.  \n",
    "- A **nota média cresce** de forma monotônica com o aumento da renda (linha e boxplot).  \n",
    "- A **correlação positiva** entre renda ordinal e nota média reforça esse padrão.  \n",
    "- (Se estratificado por tipo de escola) a diferença tende a se manter, sugerindo que renda impacta independentemente do setor.\n"
   ]
  }
 ],
 "metadata": {
  "kernelspec": {
   "display_name": "Python 3",
   "language": "python",
   "name": "python3"
  },
  "language_info": {
   "name": "python",
   "version": "3.x"
  }
 },
 "nbformat": 4,
 "nbformat_minor": 5
}
