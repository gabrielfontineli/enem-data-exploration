{
 "cells": [
  {
   "cell_type": "markdown",
   "id": "7cd90da7",
   "metadata": {},
   "source": [
    "\n",
    "# ENEM 2023 — 03 · Rótulos do Dicionário & Export Rotulada\n",
    "\n",
    "Objetivo: **ler o dicionário .xlsx**, aplicar rótulos legíveis às variáveis categóricas (ex.: `TP_ESCOLA`, `Q001–Q006`), \n",
    "e **salvar uma versão rotulada** do dataset para uso nos gráficos e no relatório.\n",
    "\n",
    "- Sem seaborn; apenas **matplotlib**.\n",
    "- Salva arquivos em:\n",
    "  - `../data/interim/enem_2023_rotulado.parquet`\n",
    "  - `../reports/figures/*`\n",
    "  - `../reports/tabelas/dicionario_mapeamentos.csv`\n"
   ]
  },
  {
   "cell_type": "code",
   "execution_count": null,
   "id": "fd6fbb40",
   "metadata": {},
   "outputs": [],
   "source": [
    "\n",
    "# Imports\n",
    "import os\n",
    "from pathlib import Path\n",
    "import re\n",
    "import pandas as pd\n",
    "import matplotlib.pyplot as plt\n",
    "\n",
    "# Caminhos (ajuste se necessário)\n",
    "PARQUET_IN = Path(\"../data/interim/enem_2023.parquet\").resolve()\n",
    "DICT_PATH  = Path(\"../data/interim/unzipped_2023/DICIONÁRIO/Dicionário_Microdados_Enem_2023.xlsx\").resolve()\n",
    "\n",
    "PARQUET_OUT = Path(\"../data/interim/enem_2023_rotulado.parquet\").resolve()\n",
    "FIG_DIR     = Path(\"../reports/figures\"); FIG_DIR.mkdir(parents=True, exist_ok=True)\n",
    "TAB_DIR     = Path(\"../reports/tabelas\"); TAB_DIR.mkdir(parents=True, exist_ok=True)\n",
    "\n",
    "print(\"Usando:\", PARQUET_IN)\n",
    "print(\"Dicionário:\", DICT_PATH)\n"
   ]
  },
  {
   "cell_type": "markdown",
   "id": "d430a65f",
   "metadata": {},
   "source": [
    "## 1) Helper para ler o dicionário (.xlsx) e extrair rótulos"
   ]
  },
  {
   "cell_type": "code",
   "execution_count": null,
   "id": "93af1556",
   "metadata": {},
   "outputs": [],
   "source": [
    "\n",
    "def read_enem_dictionary(dict_path: str | Path, sheet_name: str = \"MICRODADOS_ENEM_2023\"):\n",
    "    df = pd.read_excel(dict_path, sheet_name=sheet_name, header=2)\n",
    "    # localizar colunas por palavras-chave (tolerante a acentos/maiúsculas)\n",
    "    def find_col(keyword):\n",
    "        for c in df.columns:\n",
    "            if keyword.lower() in str(c).lower():\n",
    "                return c\n",
    "        return None\n",
    "    col_var = find_col(\"variável\")\n",
    "    col_desc = find_col(\"descrição\")\n",
    "    col_cat = find_col(\"valor\") or find_col(\"categ\")\n",
    "    if not col_var or not col_desc:\n",
    "        raise ValueError(\"Não foi possível identificar colunas de variável/descrição no dicionário.\")\n",
    "    descriptions, categories = {}, {}\n",
    "    for _, row in df.iterrows():\n",
    "        var = str(row[col_var]).strip().upper()\n",
    "        if not var or var == \"NAN\":\n",
    "            continue\n",
    "        descriptions[var] = str(row[col_desc]).strip()\n",
    "        cats_raw = str(row[col_cat]) if col_cat else \"\"\n",
    "        pairs = []\n",
    "        for part in re.split(r\"[;\\n]+\", cats_raw):\n",
    "            m = re.match(r\"\\s*([A-Za-z0-9]+)\\s*[-=:\\u2013]\\s*(.+)\", part)\n",
    "            if m:\n",
    "                code, label = m.group(1).strip(), m.group(2).strip()\n",
    "                pairs.append((code, label))\n",
    "        if pairs:\n",
    "            categories[var] = {k: v for k, v in pairs}\n",
    "    return descriptions, categories\n"
   ]
  },
  {
   "cell_type": "markdown",
   "id": "8c857165",
   "metadata": {},
   "source": [
    "## 2) Carregar base e dicionário"
   ]
  },
  {
   "cell_type": "code",
   "execution_count": null,
   "id": "bace4243",
   "metadata": {},
   "outputs": [],
   "source": [
    "\n",
    "df = pd.read_parquet(PARQUET_IN)\n",
    "descriptions, categories = read_enem_dictionary(DICT_PATH)\n",
    "print(\"Linhas:\", len(df), \"| Variáveis descritas:\", len(descriptions), \"| Com categorias:\", len(categories))\n",
    "list(categories.keys())[:10]\n"
   ]
  },
  {
   "cell_type": "markdown",
   "id": "cd9b62c4",
   "metadata": {},
   "source": [
    "## 3) Aplicar rótulos às variáveis importantes"
   ]
  },
  {
   "cell_type": "code",
   "execution_count": null,
   "id": "f06dfc9a",
   "metadata": {},
   "outputs": [],
   "source": [
    "\n",
    "def apply_labels(df, var, cats: dict, order_codes: list[str] | None = None, new_col=None):\n",
    "    if not cats:\n",
    "        return df\n",
    "    target = new_col or var\n",
    "    s = df[var].astype(\"string\")\n",
    "    # ordem: a que vier do dicionário (ou a fornecida)\n",
    "    order = order_codes or list(cats.keys())\n",
    "    labeled = s.map(cats).astype(\"category\").cat.set_categories([cats[k] for k in order], ordered=True)\n",
    "    df[target] = labeled\n",
    "    return df\n",
    "\n",
    "# TP_ESCOLA (fallback se não vier do dicionário)\n",
    "tp_fallback = {\"1\": \"Não respondeu\", \"2\": \"Pública\", \"3\": \"Privada\", \"4\": \"Exterior\"}\n",
    "tp_cats = categories.get(\"TP_ESCOLA\", tp_fallback)\n",
    "tp_order = [\"2\",\"3\",\"1\",\"4\"]  # Pública, Privada, Não resp., Exterior\n",
    "if \"TP_ESCOLA\" in df.columns:\n",
    "    df[\"TP_ESCOLA\"] = df[\"TP_ESCOLA\"].astype(\"Int64\").astype(\"string\")  # normaliza\n",
    "    df = apply_labels(df, \"TP_ESCOLA\", tp_cats, order_codes=tp_order, new_col=\"TP_ESCOLA_rot\")\n",
    "\n",
    "# Q001–Q006, Q022, Q024, Q025 (se existirem)\n",
    "for q in [\"Q001\",\"Q002\",\"Q003\",\"Q004\",\"Q005\",\"Q006\",\"Q022\",\"Q024\",\"Q025\"]:\n",
    "    if q in df.columns:\n",
    "        cats = categories.get(q, {})\n",
    "        if cats:\n",
    "            # ordem A..Z como padrão\n",
    "            order = sorted(cats.keys(), key=lambda x: x)\n",
    "            df[q] = df[q].astype(\"string\")\n",
    "            df = apply_labels(df, q, cats, order_codes=order, new_col=f\"{q}_rot\")\n",
    "        else:\n",
    "            # sem rótulo: mantém a original\n",
    "            pass\n",
    "\n",
    "df.head(3)\n"
   ]
  },
  {
   "cell_type": "markdown",
   "id": "74527631",
   "metadata": {},
   "source": [
    "## 4) Salvar versão rotulada (Parquet)"
   ]
  },
  {
   "cell_type": "code",
   "execution_count": null,
   "id": "e52f9921",
   "metadata": {},
   "outputs": [],
   "source": [
    "\n",
    "df.to_parquet(PARQUET_OUT, index=False)\n",
    "print(\"Parquet rotulado salvo em:\", PARQUET_OUT)\n"
   ]
  },
  {
   "cell_type": "markdown",
   "id": "fc969e40",
   "metadata": {},
   "source": [
    "## 5) Figuras com rótulos — Boxplot por tipo de escola"
   ]
  },
  {
   "cell_type": "code",
   "execution_count": null,
   "id": "9cdadbb0",
   "metadata": {},
   "outputs": [],
   "source": [
    "\n",
    "if \"TP_ESCOLA_rot\" in df.columns:\n",
    "    plt.figure(figsize=(7,4))\n",
    "    df.boxplot(column=\"NOTA_MEDIA_5\", by=\"TP_ESCOLA_rot\", grid=False)\n",
    "    plt.title(\"NOTA_MEDIA_5 por Tipo de Escola — ENEM 2023 (rotulado)\")\n",
    "    plt.suptitle(\"\")\n",
    "    plt.xlabel(\"\")\n",
    "    plt.ylabel(\"Média das 5 provas\")\n",
    "    plt.tight_layout()\n",
    "    out = FIG_DIR / \"boxplot_media5_por_tp_escola_rotulado.png\"\n",
    "    plt.savefig(out, dpi=200, bbox_inches=\"tight\")\n",
    "    plt.show()\n",
    "    print(\"Figura salva:\", out)\n",
    "else:\n",
    "    print(\"TP_ESCOLA_rot não disponível.\")\n"
   ]
  },
  {
   "cell_type": "markdown",
   "id": "de524275",
   "metadata": {},
   "source": [
    "## 6) Tabela de mapeamentos (para relatório)"
   ]
  },
  {
   "cell_type": "code",
   "execution_count": null,
   "id": "dbe07121",
   "metadata": {},
   "outputs": [],
   "source": [
    "\n",
    "# Exporta um CSV longo com var, código e rótulo\n",
    "rows = []\n",
    "for var, mapping in categories.items():\n",
    "    for code, label in mapping.items():\n",
    "        rows.append({\"variavel\": var, \"codigo\": code, \"rotulo\": label})\n",
    "map_df = pd.DataFrame(rows).sort_values([\"variavel\",\"codigo\"])\n",
    "out_csv = TAB_DIR / \"dicionario_mapeamentos.csv\"\n",
    "map_df.to_csv(out_csv, index=False)\n",
    "print(\"Mapeamentos salvos em:\", out_csv)\n",
    "map_df.head(12)\n"
   ]
  },
  {
   "cell_type": "markdown",
   "id": "63b25643",
   "metadata": {},
   "source": [
    "## 7) Tendência por renda (Q006_rot) com rótulos do dicionário"
   ]
  },
  {
   "cell_type": "code",
   "execution_count": null,
   "id": "f2a19ecc",
   "metadata": {},
   "outputs": [],
   "source": [
    "\n",
    "if \"Q006_rot\" in df.columns and \"NOTA_MEDIA_5\" in df.columns:\n",
    "    tmp = df.dropna(subset=[\"Q006_rot\",\"NOTA_MEDIA_5\"]).copy()\n",
    "    # Usa a ordem categórica já aplicada\n",
    "    cats = list(tmp[\"Q006_rot\"].cat.categories)\n",
    "    m = tmp.groupby(\"Q006_rot\")[\"NOTA_MEDIA_5\"].mean().reindex(cats)\n",
    "    plt.figure(figsize=(8,4))\n",
    "    plt.plot(range(len(m)), m.values, marker=\"o\")\n",
    "    plt.title(\"Média das 5 provas por faixa de renda (Q006) — Rotulada\")\n",
    "    plt.xlabel(\"Faixa de renda (Q006)\")\n",
    "    plt.ylabel(\"Média NOTA_MEDIA_5\")\n",
    "    plt.xticks(range(len(m)), cats, rotation=0, ha=\"center\")\n",
    "    # quebra rótulos longos\n",
    "    import textwrap\n",
    "    ax = plt.gca()\n",
    "    ax.set_xticklabels([\"\n",
    "\".join(textwrap.wrap(t, 20)) for t in cats])\n",
    "    plt.tight_layout()\n",
    "    out = FIG_DIR / \"linha_media5_por_q006_rotulada.png\"\n",
    "    plt.savefig(out, dpi=200, bbox_inches=\"tight\")\n",
    "    plt.show()\n",
    "    print(\"Figura salva:\", out)\n",
    "else:\n",
    "    print(\"Q006_rot ou NOTA_MEDIA_5 indisponíveis.\")\n"
   ]
  }
 ],
 "metadata": {},
 "nbformat": 4,
 "nbformat_minor": 5
}
