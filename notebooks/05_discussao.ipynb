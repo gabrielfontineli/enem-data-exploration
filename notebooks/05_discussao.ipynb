{
 "cells": [
  {
   "cell_type": "markdown",
   "metadata": {},
   "source": [
    "# 05 — Resultados e Discussão (ENEM 2023)\n",
    "\n",
    "**Objetivo:** consolidar os principais achados da análise exploratória para apresentação do checkpoint.\n",
    "\n",
    "**Este notebook mostra:**\n",
    "1. Estatísticas descritivas e distribuições (univariado).\n",
    "2. Relações bivariadas: renda × nota; escolaridade dos pais × nota; tipo de escola × nota.\n",
    "3. Correlações cruzadas (renda, escolaridade, notas).\n",
    "4. Blocos de interpretação orientando a discussão."
   ]
  },
  {
   "cell_type": "code",
   "metadata": {},
   "source": [
    "%matplotlib inline\n",
    "from pathlib import Path\n",
    "import pandas as pd\n",
    "import numpy as np\n",
    "import matplotlib.pyplot as plt\n",
    "\n",
    "DATA_PATH = Path(\"../data/interim/enem_2023.parquet\")\n",
    "print(\"Lendo:\", DATA_PATH)\n",
    "df = pd.read_parquet(DATA_PATH)\n",
    "print(\"Dimensões:\", df.shape)\n",
    "\n",
    "NOTAS = [\"NU_NOTA_MT\",\"NU_NOTA_LC\",\"NU_NOTA_CH\",\"NU_NOTA_CN\",\"NU_NOTA_REDACAO\"]\n",
    "REQUIRED = [\"Q006\",\"Q006_ord\",\"Q001\",\"Q001_ord\",\"Q002\",\"Q002_ord\",\"TP_ESCOLA\",\"NOTA_MEDIA_5\"] + NOTAS\n",
    "missing = [c for c in REQUIRED if c not in df.columns]\n",
    "if missing:\n",
    "    raise RuntimeError(f\"Faltam colunas necessárias: {missing}\")\n",
    "\n",
    "if \"IN_TREINEIRO\" in df.columns:\n",
    "    df = df[df[\"IN_TREINEIRO\"] == 0].copy()\n",
    "\n",
    "df = df.dropna(subset=[\"NOTA_MEDIA_5\",\"Q006_ord\",\"Q001_ord\",\"Q002_ord\",\"TP_ESCOLA\"]).copy()\n",
    "print(\"Após filtros:\", df.shape)\n",
    "df.head(3)"
   ]
  },
  {
   "cell_type": "markdown",
   "metadata": {},
   "source": [
    "## 1) Estatísticas descritivas e distribuições (univariado)"
   ]
  },
  {
   "cell_type": "code",
   "metadata": {},
   "source": [
    "desc = df[NOTAS + [\"NOTA_MEDIA_5\"]].describe().T\n",
    "desc[[\"mean\",\"std\",\"min\",\"25%\",\"50%\",\"75%\",\"max\"]]"
   ]
  },
  {
   "cell_type": "code",
   "metadata": {},
   "source": [
    "plt.figure(figsize=(8,4.8))\n",
    "plt.hist(df[\"NOTA_MEDIA_5\"].dropna(), bins=40)\n",
    "plt.title(\"Distribuição — Nota Média (5 provas)\")\n",
    "plt.xlabel(\"Nota média\")\n",
    "plt.ylabel(\"Frequência\")\n",
    "plt.tight_layout()\n",
    "plt.show()"
   ]
  },
  {
   "cell_type": "code",
   "metadata": {},
   "source": [
    "for col in [\"NU_NOTA_MT\",\"NU_NOTA_LC\",\"NU_NOTA_CH\",\"NU_NOTA_CN\",\"NU_NOTA_REDACAO\"]:\n",
    "    plt.figure(figsize=(8,4.8))\n",
    "    plt.hist(df[col].dropna(), bins=40)\n",
    "    plt.title(f\"Distribuição — {col}\")\n",
    "    plt.xlabel(\"Nota\")\n",
    "    plt.ylabel(\"Frequência\")\n",
    "    plt.tight_layout()\n",
    "    plt.show()"
   ]
  },
  {
   "cell_type": "markdown",
   "metadata": {},
   "source": [
    "## 2) Renda (Q006_ord) × Nota"
   ]
  },
  {
   "cell_type": "code",
   "metadata": {},
   "source": [
    "g = df.groupby(\"Q006_ord\", as_index=False)[\"NOTA_MEDIA_5\"].mean().sort_values(\"Q006_ord\")\n",
    "plt.figure(figsize=(9,4.8))\n",
    "plt.plot(g[\"Q006_ord\"], g[\"NOTA_MEDIA_5\"], marker=\"o\")\n",
    "plt.title(\"Nota Média por Faixa de Renda (Q006_ord)\")\n",
    "plt.xlabel(\"Renda (ordem A=1, B=2, ...)\")\n",
    "plt.ylabel(\"Nota média (5 provas)\")\n",
    "plt.grid(True, linestyle=\"--\", alpha=0.6)\n",
    "plt.tight_layout()\n",
    "plt.show()\n",
    "\n",
    "corr_renda_media = df[\"Q006_ord\"].corr(df[\"NOTA_MEDIA_5\"])\n",
    "print(\"Correlação Q006_ord × NOTA_MEDIA_5:\", round(corr_renda_media, 3))"
   ]
  },
  {
   "cell_type": "markdown",
   "metadata": {},
   "source": [
    "## 3) Escolaridade dos pais (Q001_ord, Q002_ord) × Nota"
   ]
  },
  {
   "cell_type": "code",
   "metadata": {},
   "source": [
    "g1 = df.groupby(\"Q001_ord\", as_index=False)[\"NOTA_MEDIA_5\"].mean().sort_values(\"Q001_ord\")\n",
    "plt.figure(figsize=(9,4.8))\n",
    "plt.plot(g1[\"Q001_ord\"], g1[\"NOTA_MEDIA_5\"], marker=\"o\")\n",
    "plt.title(\"Nota Média por Escolaridade do Responsável 1 (Q001_ord)\")\n",
    "plt.xlabel(\"Q001_ord (A=1, B=2, ...)\")\n",
    "plt.ylabel(\"Nota média\")\n",
    "plt.grid(True, linestyle=\"--\", alpha=0.6)\n",
    "plt.tight_layout()\n",
    "plt.show()\n",
    "print(\"Correlação Q001_ord × NOTA_MEDIA_5:\", round(df[\"Q001_ord\"].corr(df[\"NOTA_MEDIA_5\"]), 3))\n",
    "\n",
    "g2 = df.groupby(\"Q002_ord\", as_index=False)[\"NOTA_MEDIA_5\"].mean().sort_values(\"Q002_ord\")\n",
    "plt.figure(figsize=(9,4.8))\n",
    "plt.plot(g2[\"Q002_ord\"], g2[\"NOTA_MEDIA_5\"], marker=\"o\")\n",
    "plt.title(\"Nota Média por Escolaridade do Responsável 2 (Q002_ord)\")\n",
    "plt.xlabel(\"Q002_ord (A=1, B=2, ...)\")\n",
    "plt.ylabel(\"Nota média\")\n",
    "plt.grid(True, linestyle=\"--\", alpha=0.6)\n",
    "plt.tight_layout()\n",
    "plt.show()\n",
    "print(\"Correlação Q002_ord × NOTA_MEDIA_5:\", round(df[\"Q002_ord\"].corr(df[\"NOTA_MEDIA_5\"]), 3))"
   ]
  },
  {
   "cell_type": "markdown",
   "metadata": {},
   "source": [
    "## 4) Tipo de escola (TP_ESCOLA) × Nota"
   ]
  },
  {
   "cell_type": "code",
   "metadata": {},
   "source": [
    "map_escola = {1: \"Pública\", 2: \"Privada\", 3: \"Exterior\"}\n",
    "lab = df[\"TP_ESCOLA\"].map(map_escola).fillna(df[\"TP_ESCOLA\"].astype(str))\n",
    "\n",
    "grp = pd.DataFrame({\"TP_ESCOLA_lab\": lab, \"NOTA_MEDIA_5\": df[\"NOTA_MEDIA_5\"]}).groupby(\"TP_ESCOLA_lab\", as_index=False)[\"NOTA_MEDIA_5\"].mean()\n",
    "\n",
    "plt.figure(figsize=(7.2,4.5))\n",
    "plt.bar(grp[\"TP_ESCOLA_lab\"], grp[\"NOTA_MEDIA_5\"])\n",
    "plt.title(\"Nota Média por Tipo de Escola\")\n",
    "plt.xlabel(\"Tipo de escola\")\n",
    "plt.ylabel(\"Nota média (5 provas)\")\n",
    "plt.tight_layout()\n",
    "plt.show()\n",
    "\n",
    "grp.sort_values(\"NOTA_MEDIA_5\", ascending=False)"
   ]
  },
  {
   "cell_type": "markdown",
   "metadata": {},
   "source": [
    "## 5) Correlações cruzadas — renda, escolaridade e notas"
   ]
  },
  {
   "cell_type": "code",
   "metadata": {},
   "source": [
    "cols_corr = [\"Q006_ord\",\"Q001_ord\",\"Q002_ord\",\"NOTA_MEDIA_5\"] + NOTAS\n",
    "sub = df[cols_corr].dropna()\n",
    "corr = sub.corr(numeric_only=True).round(3)\n",
    "print(corr)"
   ]
  },
  {
   "cell_type": "code",
   "metadata": {},
   "source": [
    "plt.figure(figsize=(7,6))\n",
    "plt.imshow(corr, aspect='auto')\n",
    "plt.title(\"Correlação — Renda, Escolaridade e Notas\")\n",
    "plt.xticks(range(len(corr.columns)), corr.columns, rotation=45, ha='right')\n",
    "plt.yticks(range(len(corr.index)), corr.index)\n",
    "plt.tight_layout()\n",
    "plt.show()"
   ]
  },
  {
   "cell_type": "markdown",
   "metadata": {},
   "source": [
    "## 6) Interpretação e discussão (para apresentação)\n",
    "\n",
    "- **Distribuições**: notas concentram-se em faixas médias; dispersão maior em Matemática e Redação.  \n",
    "- **Renda × nota**: tendência monotônica crescente; correlação positiva entre `Q006_ord` e `NOTA_MEDIA_5`.  \n",
    "- **Escolaridade × nota**: padrão semelhante para `Q001_ord` e `Q002_ord`.  \n",
    "- **Tipo de escola**: médias maiores no privado, mas renda e escolaridade permanecem relevantes.  \n",
    "- **Correlação cruzada**: renda e escolaridade correlacionam-se entre si e com notas, sobretudo *Matemática* e *Redação*.  \n",
    "\n",
    "**Próximos passos**  \n",
    "- Explorar análises por área com maior detalhe (com os notebooks 02 e 03).  \n",
    "- Agrupar faixas de renda para simplificar comunicação (baixa/média/alta).  \n",
    "- Testar ponderações de notas (contexto SISU/curso) ou modelos simples (regressão)."
   ]
  }
 ],
 "metadata": {
  "kernelspec": {
   "display_name": "Python 3",
   "language": "python",
   "name": "python3"
  },
  "language_info": {
   "name": "python",
   "version": "3.x"
  }
 },
 "nbformat": 4,
 "nbformat_minor": 5
}
