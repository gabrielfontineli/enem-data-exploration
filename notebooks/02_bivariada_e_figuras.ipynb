{
 "cells": [
  {
   "cell_type": "markdown",
   "id": "9b345266",
   "metadata": {},
   "source": [
    "\n",
    "# ENEM 2023 — 02 · Exploração Bivariada & Figuras (Matplotlib)\n",
    "\n",
    "Objetivo: produzir **gráficos prontos** para o relatório, usando **matplotlib** (sem seaborn), um gráfico por célula.  \n",
    "As imagens serão salvas em `reports/figures/`.\n",
    "\n",
    "> Dica: rode **Kernel → Restart & Run All** para gerar tudo de forma reprodutível.\n"
   ]
  },
  {
   "cell_type": "code",
   "execution_count": null,
   "id": "307a6daf",
   "metadata": {},
   "outputs": [],
   "source": [
    "\n",
    "# Imports\n",
    "import os\n",
    "from pathlib import Path\n",
    "import numpy as np\n",
    "import pandas as pd\n",
    "import matplotlib.pyplot as plt\n",
    "\n",
    "# Caminhos\n",
    "PARQUET_PATH = Path(\"../data/interim/enem_2023.parquet\").resolve()  # ajuste se necessário\n",
    "FIG_DIR = Path(\"../reports/figures\")\n",
    "FIG_DIR.mkdir(parents=True, exist_ok=True)\n",
    "\n",
    "print(\"Parquet:\", PARQUET_PATH)\n",
    "print(\"Figuras em:\", FIG_DIR)\n",
    "df = pd.read_parquet(PARQUET_PATH)\n",
    "print(\"Shape:\", df.shape)\n"
   ]
  },
  {
   "cell_type": "markdown",
   "id": "f9d1a3d1",
   "metadata": {},
   "source": [
    "\n",
    "## 1) Boxplot — `NOTA_MEDIA_5` por `TP_ESCOLA`\n",
    "\n",
    "Comparação direta de distribuição entre tipos de escola.\n"
   ]
  },
  {
   "cell_type": "code",
   "execution_count": null,
   "id": "fffc25df",
   "metadata": {},
   "outputs": [],
   "source": [
    "\n",
    "if \"TP_ESCOLA\" in df.columns:\n",
    "    plt.figure(figsize=(6,4))\n",
    "    df.boxplot(column=\"NOTA_MEDIA_5\", by=\"TP_ESCOLA\", grid=False)\n",
    "    plt.title(\"NOTA_MEDIA_5 por TP_ESCOLA (ENEM 2023)\")\n",
    "    plt.suptitle(\"\")\n",
    "    plt.xlabel(\"TP_ESCOLA\")\n",
    "    plt.ylabel(\"Média das 5 provas\")\n",
    "    plt.tight_layout()\n",
    "    out = FIG_DIR / \"boxplot_media5_por_tp_escola.png\"\n",
    "    plt.savefig(out, dpi=200, bbox_inches=\"tight\")\n",
    "    plt.show()\n",
    "    print(\"Salvo:\", out)\n",
    "else:\n",
    "    print(\"Coluna TP_ESCOLA não encontrada.\")\n"
   ]
  },
  {
   "cell_type": "markdown",
   "id": "6e787ed9",
   "metadata": {},
   "source": [
    "\n",
    "## 2) Tendência — Renda (Q006 ordinal) × `NOTA_MEDIA_5`\n",
    "\n",
    "Mapeamos `A..Z → 1..26` só para enxergar a tendência geral. Depois é possível substituir por rótulos oficiais.\n"
   ]
  },
  {
   "cell_type": "code",
   "execution_count": null,
   "id": "706401f8",
   "metadata": {},
   "outputs": [],
   "source": [
    "\n",
    "if \"Q006\" in df.columns:\n",
    "    ord_map = {chr(i): i-64 for i in range(65,91)}  # A..Z -> 1..26\n",
    "    q = df[\"Q006\"].map(ord_map)\n",
    "    tmp = pd.DataFrame({\"Q006_ord\": q, \"NOTA_MEDIA_5\": df[\"NOTA_MEDIA_5\"]}).dropna()\n",
    "    trend = tmp.groupby(\"Q006_ord\")[\"NOTA_MEDIA_5\"].mean().reset_index().sort_values(\"Q006_ord\")\n",
    "    plt.figure(figsize=(6,4))\n",
    "    plt.plot(trend[\"Q006_ord\"], trend[\"NOTA_MEDIA_5\"])\n",
    "    plt.title(\"Média das 5 provas por Q006 (ordinal) — ENEM 2023\")\n",
    "    plt.xlabel(\"Q006 (A=1 → menor renda)\")\n",
    "    plt.ylabel(\"Média NOTA_MEDIA_5\")\n",
    "    plt.tight_layout()\n",
    "    out = FIG_DIR / \"linha_media5_por_q006_ordinal.png\"\n",
    "    plt.savefig(out, dpi=200, bbox_inches=\"tight\")\n",
    "    plt.show()\n",
    "    print(\"Salvo:\", out)\n",
    "    # Exporta a tabela para eventual uso no relatório\n",
    "    csv_out = FIG_DIR / \"tabela_media5_por_q006_ordinal.csv\"\n",
    "    trend.to_csv(csv_out, index=False)\n",
    "    print(\"Tabela salva:\", csv_out)\n",
    "else:\n",
    "    print(\"Coluna Q006 não encontrada.\")\n"
   ]
  },
  {
   "cell_type": "markdown",
   "id": "12df532b",
   "metadata": {},
   "source": [
    "\n",
    "## 3) Barras — Média por UF (`SG_UF_RESIDENCIA`)\n",
    "\n",
    "Média da `NOTA_MEDIA_5` por estado (ordem decrescente).\n"
   ]
  },
  {
   "cell_type": "code",
   "execution_count": null,
   "id": "62a73480",
   "metadata": {},
   "outputs": [],
   "source": [
    "\n",
    "if \"SG_UF_RESIDENCIA\" in df.columns:\n",
    "    m = df.groupby(\"SG_UF_RESIDENCIA\")[\"NOTA_MEDIA_5\"].mean().sort_values(ascending=False)\n",
    "    plt.figure(figsize=(7,5))\n",
    "    m.plot(kind=\"bar\")\n",
    "    plt.title(\"Média da NOTA_MEDIA_5 por UF — ENEM 2023\")\n",
    "    plt.xlabel(\"UF\")\n",
    "    plt.ylabel(\"Média NOTA_MEDIA_5\")\n",
    "    plt.tight_layout()\n",
    "    out = FIG_DIR / \"barras_media5_por_uf.png\"\n",
    "    plt.savefig(out, dpi=200, bbox_inches=\"tight\")\n",
    "    plt.show()\n",
    "    print(\"Salvo:\", out)\n",
    "    csv_out = FIG_DIR / \"tabela_media5_por_uf.csv\"\n",
    "    m.reset_index().to_csv(csv_out, index=False)\n",
    "    print(\"Tabela salva:\", csv_out)\n",
    "else:\n",
    "    print(\"Coluna SG_UF_RESIDENCIA não encontrada.\")\n"
   ]
  },
  {
   "cell_type": "markdown",
   "id": "20dd6234",
   "metadata": {},
   "source": [
    "\n",
    "## 4) Heatmap simples — Correlação entre notas\n",
    "\n",
    "Matriz de correlação (Pearson) entre as cinco notas e a média (imshow).\n"
   ]
  },
  {
   "cell_type": "code",
   "execution_count": null,
   "id": "d1853bce",
   "metadata": {},
   "outputs": [],
   "source": [
    "\n",
    "nota_cols = [c for c in [\"NU_NOTA_MT\",\"NU_NOTA_LC\",\"NU_NOTA_CH\",\"NU_NOTA_CN\",\"NU_NOTA_REDACAO\",\"NOTA_MEDIA_5\"] if c in df.columns]\n",
    "if len(nota_cols) >= 2:\n",
    "    corr = df[nota_cols].corr(numeric_only=True)\n",
    "    plt.figure(figsize=(5,4))\n",
    "    plt.imshow(corr, interpolation=\"nearest\")\n",
    "    plt.title(\"Correlação entre notas (Pearson) — ENEM 2023\")\n",
    "    plt.xticks(range(len(corr.columns)), corr.columns, rotation=45, ha=\"right\")\n",
    "    plt.yticks(range(len(corr.index)), corr.index)\n",
    "    plt.colorbar()\n",
    "    plt.tight_layout()\n",
    "    out = FIG_DIR / \"heatmap_correlacao_notas.png\"\n",
    "    plt.savefig(out, dpi=200, bbox_inches=\"tight\")\n",
    "    plt.show()\n",
    "    print(\"Salvo:\", out)\n",
    "    csv_out = FIG_DIR / \"tabela_correlacao_notas.csv\"\n",
    "    corr.to_csv(csv_out)\n",
    "    print(\"Tabela salva:\", csv_out)\n",
    "else:\n",
    "    print(\"Notas insuficientes para correlação.\")\n"
   ]
  },
  {
   "cell_type": "markdown",
   "id": "622bb166",
   "metadata": {},
   "source": [
    "\n",
    "## 5) Dispersão — `NU_NOTA_MT` × `NU_NOTA_CN`\n",
    "\n",
    "Gráfico de dispersão com `alpha` para reduzir sobreposição.\n"
   ]
  },
  {
   "cell_type": "code",
   "execution_count": null,
   "id": "13a458da",
   "metadata": {},
   "outputs": [],
   "source": [
    "\n",
    "if set([\"NU_NOTA_MT\",\"NU_NOTA_CN\"]).issubset(df.columns):\n",
    "    x = df[\"NU_NOTA_MT\"].astype(float)\n",
    "    y = df[\"NU_NOTA_CN\"].astype(float)\n",
    "    plt.figure(figsize=(6,4))\n",
    "    plt.scatter(x, y, s=6, alpha=0.3)\n",
    "    plt.title(\"Dispersão: MT × CN — ENEM 2023\")\n",
    "    plt.xlabel(\"NU_NOTA_MT\")\n",
    "    plt.ylabel(\"NU_NOTA_CN\")\n",
    "    plt.tight_layout()\n",
    "    out = FIG_DIR / \"scatter_mt_vs_cn.png\"\n",
    "    plt.savefig(out, dpi=200, bbox_inches=\"tight\")\n",
    "    plt.show()\n",
    "    print(\"Salvo:\", out)\n",
    "else:\n",
    "    print(\"Colunas de notas MT/CN não encontradas.\")\n"
   ]
  },
  {
   "cell_type": "markdown",
   "id": "419d5791",
   "metadata": {},
   "source": [
    "\n",
    "## 6) Exportar tabelas resumidas (para o relatório)\n",
    "\n",
    "Gera CSVs de resumos úteis (por escola e por UF).\n"
   ]
  },
  {
   "cell_type": "code",
   "execution_count": null,
   "id": "9216333b",
   "metadata": {},
   "outputs": [],
   "source": [
    "\n",
    "# Média por tipo de escola\n",
    "if \"TP_ESCOLA\" in df.columns:\n",
    "    t1 = df.groupby(\"TP_ESCOLA\")[\"NOTA_MEDIA_5\"].agg([\"count\",\"mean\",\"std\"]).round(2)\n",
    "    out = FIG_DIR / \"tabela_media5_por_tp_escola.csv\"\n",
    "    t1.reset_index().to_csv(out, index=False)\n",
    "    print(\"Tabela salva:\", out)\n",
    "\n",
    "# Média por UF\n",
    "if \"SG_UF_RESIDENCIA\" in df.columns:\n",
    "    t2 = df.groupby(\"SG_UF_RESIDENCIA\")[\"NOTA_MEDIA_5\"].agg([\"count\",\"mean\",\"std\"]).round(2)\n",
    "    out = FIG_DIR / \"tabela_media5_por_uf_stats.csv\"\n",
    "    t2.reset_index().to_csv(out, index=False)\n",
    "    print(\"Tabela salva:\", out)\n"
   ]
  }
 ],
 "metadata": {},
 "nbformat": 4,
 "nbformat_minor": 5
}
