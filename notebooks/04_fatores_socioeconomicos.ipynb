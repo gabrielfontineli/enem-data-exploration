{
 "cells": [
  {
   "cell_type": "markdown",
   "metadata": {},
   "source": [
    "# 04 — Fatores Socioeconômicos (ENEM 2023)\n",
    "\n",
    "Análises sem rótulos (apenas colunas cruas):\n",
    "- **Escolaridade dos pais** (`Q001`, `Q002`) × renda (`Q006_ord`) × desempenho (`NOTA_MEDIA_5`).\n",
    "- **Tipo de escola** (`TP_ESCOLA`) × nota média.\n",
    "- **Matriz de correlação cruzada** entre renda e escolaridade vs notas.\n",
    "\n",
    "**Requisitos:** `../data/interim/enem_2023.parquet` com as colunas: `Q001`, `Q002`, `Q006`, `TP_ESCOLA`, `NOTA_MEDIA_5` e as notas por área.  \n",
    "Obs.: Se `Q001_ord`, `Q002_ord`, `Q006_ord` não existirem, este notebook cria automaticamente a ordem A=1, B=2, ...\n",
    "\n",
    "_Somente matplotlib; não salva figuras em disco._"
   ]
  },
  {
   "cell_type": "code",
   "execution_count": null,
   "metadata": {},
   "outputs": [],
   "source": [
    "%matplotlib inline\n",
    "from pathlib import Path\n",
    "import pandas as pd\n",
    "import numpy as np\n",
    "import matplotlib.pyplot as plt\n",
    "\n",
    "DATA_PATH = Path(\"../data/interim/enem_2023.parquet\")\n",
    "print(\"Lendo:\", DATA_PATH)\n",
    "df = pd.read_parquet(DATA_PATH)\n",
    "print(\"Dimensões:\", df.shape)\n",
    "\n",
    "REQUIRED = [\n",
    "    \"Q001\", \"Q002\", \"Q006\", \"TP_ESCOLA\",\n",
    "    \"NU_NOTA_MT\", \"NU_NOTA_LC\", \"NU_NOTA_CH\", \"NU_NOTA_CN\", \"NU_NOTA_REDACAO\",\n",
    "    \"NOTA_MEDIA_5\"\n",
    "]\n",
    "missing = [c for c in REQUIRED if c not in df.columns]\n",
    "if missing:\n",
    "    raise RuntimeError(f\"Faltam colunas necessárias: {missing}\")\n",
    "\n",
    "# filtra treineiros se houver\n",
    "if \"IN_TREINEIRO\" in df.columns:\n",
    "    df = df[df[\"IN_TREINEIRO\"] == 0].copy()\n",
    "\n",
    "# garante ordinais: A=1, B=2, ..., caso *_ord não existam\n",
    "def ensure_ord(df, code_col, ord_col):\n",
    "    if ord_col in df.columns:\n",
    "        return df\n",
    "    # mapeia letras A..Z -> 1..26 (mantém NaN para códigos fora desse padrão)\n",
    "    letters = list(\"ABCDEFGHIJKLMNOPQRSTUVWXYZ\")\n",
    "    mapping = {ch: i+1 for i, ch in enumerate(letters)}\n",
    "    df[ord_col] = df[code_col].map(mapping)\n",
    "    return df\n",
    "\n",
    "df = ensure_ord(df, \"Q001\", \"Q001_ord\")\n",
    "df = ensure_ord(df, \"Q002\", \"Q002_ord\")\n",
    "df = ensure_ord(df, \"Q006\", \"Q006_ord\")\n",
    "\n",
    "# dropa linhas sem info mínima\n",
    "df = df.dropna(subset=[\"Q001_ord\", \"Q002_ord\", \"Q006_ord\", \"NOTA_MEDIA_5\"]).copy()\n",
    "df.head(3)"
   ]
  },
  {
   "cell_type": "markdown",
   "metadata": {},
   "source": [
    "## 1) Escolaridade dos Pais × Nota Média\n",
    "Usamos a ordem ordinal (A=1, B=2, ...) para representar crescente escolaridade declarada."
   ]
  },
  {
   "cell_type": "code",
   "execution_count": null,
   "metadata": {},
   "outputs": [],
   "source": [
    "# Q001 (Escolaridade do responsável 1) vs Média\n",
    "g1 = df.groupby(\"Q001_ord\", as_index=False)[\"NOTA_MEDIA_5\"].mean().sort_values(\"Q001_ord\")\n",
    "plt.figure(figsize=(9, 4.8))\n",
    "plt.plot(g1[\"Q001_ord\"], g1[\"NOTA_MEDIA_5\"], marker=\"o\")\n",
    "plt.title(\"Tendência: Escolaridade Q001 (ord) × Nota Média\")\n",
    "plt.xlabel(\"Q001_ord (A=1, B=2, ...)\")\n",
    "plt.ylabel(\"Nota média (5 provas)\")\n",
    "plt.grid(True, linestyle=\"--\", alpha=0.6)\n",
    "plt.tight_layout()\n",
    "plt.show()\n",
    "\n",
    "# Q002 (Escolaridade do responsável 2) vs Média\n",
    "g2 = df.groupby(\"Q002_ord\", as_index=False)[\"NOTA_MEDIA_5\"].mean().sort_values(\"Q002_ord\")\n",
    "plt.figure(figsize=(9, 4.8))\n",
    "plt.plot(g2[\"Q002_ord\"], g2[\"NOTA_MEDIA_5\"], marker=\"o\")\n",
    "plt.title(\"Tendência: Escolaridade Q002 (ord) × Nota Média\")\n",
    "plt.xlabel(\"Q002_ord (A=1, B=2, ...)\")\n",
    "plt.ylabel(\"Nota média (5 provas)\")\n",
    "plt.grid(True, linestyle=\"--\", alpha=0.6)\n",
    "plt.tight_layout()\n",
    "plt.show()\n",
    "\n",
    "# Correlações simples\n",
    "print(\"Correlação Q001_ord × NOTA_MEDIA_5:\", round(df[\"Q001_ord\"].corr(df[\"NOTA_MEDIA_5\"]), 3))\n",
    "print(\"Correlação Q002_ord × NOTA_MEDIA_5:\", round(df[\"Q002_ord\"].corr(df[\"NOTA_MEDIA_5\"]), 3))"
   ]
  },
  {
   "cell_type": "markdown",
   "metadata": {},
   "source": [
    "## 2) Escolaridade dos Pais × Renda (consistência socioeconômica)\n",
    "Tendências esperadas: maior escolaridade tende a coexistir com maior renda (`Q006_ord`)."
   ]
  },
  {
   "cell_type": "code",
   "execution_count": null,
   "metadata": {},
   "outputs": [],
   "source": [
    "g1r = df.groupby(\"Q001_ord\", as_index=False)[\"Q006_ord\"].mean().sort_values(\"Q001_ord\")\n",
    "plt.figure(figsize=(9, 4.8))\n",
    "plt.plot(g1r[\"Q001_ord\"], g1r[\"Q006_ord\"], marker=\"o\")\n",
    "plt.title(\"Tendência: Escolaridade Q001 (ord) × Renda (Q006_ord)\")\n",
    "plt.xlabel(\"Q001_ord\")\n",
    "plt.ylabel(\"Q006_ord (A=1, B=2, ...)\")\n",
    "plt.grid(True, linestyle=\"--\", alpha=0.6)\n",
    "plt.tight_layout()\n",
    "plt.show()\n",
    "\n",
    "g2r = df.groupby(\"Q002_ord\", as_index=False)[\"Q006_ord\"].mean().sort_values(\"Q002_ord\")\n",
    "plt.figure(figsize=(9, 4.8))\n",
    "plt.plot(g2r[\"Q002_ord\"], g2r[\"Q006_ord\"], marker=\"o\")\n",
    "plt.title(\"Tendência: Escolaridade Q002 (ord) × Renda (Q006_ord)\")\n",
    "plt.xlabel(\"Q002_ord\")\n",
    "plt.ylabel(\"Q006_ord (A=1, B=2, ...)\")\n",
    "plt.grid(True, linestyle=\"--\", alpha=0.6)\n",
    "plt.tight_layout()\n",
    "plt.show()\n",
    "\n",
    "print(\"Correlação Q001_ord × Q006_ord:\", round(df[\"Q001_ord\"].corr(df[\"Q006_ord\"]), 3))\n",
    "print(\"Correlação Q002_ord × Q006_ord:\", round(df[\"Q002_ord\"].corr(df[\"Q006_ord\"]), 3))"
   ]
  },
  {
   "cell_type": "markdown",
   "metadata": {},
   "source": [
    "## 3) Tipo de Escola × Nota Média\n",
    "Se `TP_ESCOLA_rot` não existir, usamos `TP_ESCOLA` com rótulos padrão: 1=Pública, 2=Privada, 3=Exterior (valores não mapeáveis permanecem como código)."
   ]
  },
  {
   "cell_type": "code",
   "execution_count": null,
   "metadata": {},
   "outputs": [],
   "source": [
    "if \"TP_ESCOLA_rot\" in df.columns:\n",
    "    grp = df.groupby(\"TP_ESCOLA_rot\", as_index=False)[\"NOTA_MEDIA_5\"].mean()\n",
    "    x = grp[\"TP_ESCOLA_rot\"].tolist()\n",
    "    y = grp[\"NOTA_MEDIA_5\"].tolist()\n",
    "else:\n",
    "    # mapeamento seguro (ajuste se necessário)\n",
    "    map_escola = {1: \"Pública\", 2: \"Privada\", 3: \"Exterior\"}\n",
    "    tmp = df[[\"TP_ESCOLA\", \"NOTA_MEDIA_5\"]].copy()\n",
    "    tmp[\"TP_ESCOLA_lab\"] = tmp[\"TP_ESCOLA\"].map(map_escola).fillna(tmp[\"TP_ESCOLA\"].astype(str))\n",
    "    grp = tmp.groupby(\"TP_ESCOLA_lab\", as_index=False)[\"NOTA_MEDIA_5\"].mean()\n",
    "    x = grp[\"TP_ESCOLA_lab\"].tolist()\n",
    "    y = grp[\"NOTA_MEDIA_5\"].tolist()\n",
    "\n",
    "plt.figure(figsize=(7.5, 4.8))\n",
    "plt.bar(x, y)\n",
    "plt.title(\"Nota Média por Tipo de Escola\")\n",
    "plt.xlabel(\"Tipo de Escola\")\n",
    "plt.ylabel(\"Nota média (5 provas)\")\n",
    "plt.xticks(rotation=0)\n",
    "plt.tight_layout()\n",
    "plt.show()\n",
    "\n",
    "grp.sort_values(\"NOTA_MEDIA_5\", ascending=False)"
   ]
  },
  {
   "cell_type": "markdown",
   "metadata": {},
   "source": [
    "## 4) Matriz de Correlação Cruzada\n",
    "Correlação de Pearson entre **renda (Q006_ord)**, **escolaridade (Q001_ord, Q002_ord)** e **desempenho** (média e áreas).  \n",
    "Visualização com `matplotlib.imshow` (sem definir cores explicitamente)."
   ]
  },
  {
   "cell_type": "code",
   "execution_count": null,
   "metadata": {},
   "outputs": [],
   "source": [
    "cols_corr = [\n",
    "    \"Q006_ord\", \"Q001_ord\", \"Q002_ord\",\n",
    "    \"NOTA_MEDIA_5\", \"NU_NOTA_MT\", \"NU_NOTA_LC\", \"NU_NOTA_CH\", \"NU_NOTA_CN\", \"NU_NOTA_REDACAO\"\n",
    "]\n",
    "sub = df[cols_corr].dropna()\n",
    "corr = sub.corr(numeric_only=True)\n",
    "print(corr.round(3))\n",
    "\n",
    "plt.figure(figsize=(7, 6))\n",
    "plt.imshow(corr, aspect='auto')\n",
    "plt.title(\"Correlação — Renda, Escolaridade e Notas\")\n",
    "plt.xticks(range(len(corr.columns)), corr.columns, rotation=45, ha='right')\n",
    "plt.yticks(range(len(corr.index)), corr.index)\n",
    "plt.tight_layout()\n",
    "plt.show()"
   ]
  },
  {
   "cell_type": "markdown",
   "metadata": {},
   "source": [
    "## 5) Observações para apresentação\n",
    "- **Renda e escolaridade** dos pais apresentam correlação positiva entre si e com a **nota média**.\n",
    "- A **diferença por tipo de escola** é visível na média, mas não explica tudo — renda e escolaridade seguem relevantes.\n",
    "- Entre as áreas, costuma-se observar correlação mais forte em **Matemática** e **Redação** (confirmar nos seus números)."
   ]
  }
 ],
 "metadata": {
  "kernelspec": {
   "display_name": "Python 3",
   "language": "python",
   "name": "python3"
  },
  "language_info": {
   "name": "python",
   "version": "3.x"
  }
 },
 "nbformat": 4,
 "nbformat_minor": 5
}
